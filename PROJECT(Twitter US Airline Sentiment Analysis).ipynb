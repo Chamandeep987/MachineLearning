{
 "cells": [
  {
   "cell_type": "code",
   "execution_count": 1,
   "metadata": {
    "colab": {
     "base_uri": "https://localhost:8080/",
     "height": 54
    },
    "colab_type": "code",
    "executionInfo": {
     "elapsed": 1449,
     "status": "ok",
     "timestamp": 1555529889785,
     "user": {
      "displayName": "chamandeep singh",
      "photoUrl": "",
      "userId": "07992400557441775171"
     },
     "user_tz": -330
    },
    "id": "5Ev01L-ZWukA",
    "outputId": "4eaaac4f-c2fa-4664-f3e5-a433b153272f"
   },
   "outputs": [
    {
     "name": "stdout",
     "output_type": "stream",
     "text": [
      "Drive already mounted at /content/gdrive; to attempt to forcibly remount, call drive.mount(\"/content/gdrive\", force_remount=True).\n"
     ]
    }
   ],
   "source": [
    "\n",
    "from google.colab import drive\n",
    "\n",
    "drive.mount('/content/gdrive')"
   ]
  },
  {
   "cell_type": "code",
   "execution_count": 0,
   "metadata": {
    "colab": {},
    "colab_type": "code",
    "id": "ydEIqBD8X-o1"
   },
   "outputs": [],
   "source": [
    "import numpy as np\n",
    "import pandas as pd"
   ]
  },
  {
   "cell_type": "code",
   "execution_count": 0,
   "metadata": {
    "colab": {},
    "colab_type": "code",
    "id": "3TxQtnvYW_IL"
   },
   "outputs": [],
   "source": [
    "path =\"content/gdrive/My Drive/Colab Notebooks/ML PROJECTS/Twitter US Airline Sentiment Analysis/0000000000002747_test_twitter_x_y_train.csv\"\n",
    "data = pd.read_csv(\"gdrive/My Drive/Colab Notebooks/ML PROJECTS/Twitter US Airline Sentiment Analysis/0000000000002747_training_twitter_x_y_train.csv\")\n",
    "test = pd.read_csv(\"gdrive/My Drive/Colab Notebooks/ML PROJECTS/Twitter US Airline Sentiment Analysis/0000000000002747_test_twitter_x_test.csv\")"
   ]
  },
  {
   "cell_type": "code",
   "execution_count": 4,
   "metadata": {
    "colab": {
     "base_uri": "https://localhost:8080/",
     "height": 54
    },
    "colab_type": "code",
    "executionInfo": {
     "elapsed": 1810,
     "status": "ok",
     "timestamp": 1555529890184,
     "user": {
      "displayName": "chamandeep singh",
      "photoUrl": "",
      "userId": "07992400557441775171"
     },
     "user_tz": -330
    },
    "id": "V3Od7PTOPqJV",
    "outputId": "85815492-7f25-435e-b8c8-51c3d42d81e6"
   },
   "outputs": [
    {
     "data": {
      "text/plain": [
       "'@AmericanAir after all, the plane didn’t land in identical or worse) conditions at GRK according to METARs.'"
      ]
     },
     "execution_count": 4,
     "metadata": {
      "tags": []
     },
     "output_type": "execute_result"
    }
   ],
   "source": [
    "test.iloc[1,6]"
   ]
  },
  {
   "cell_type": "code",
   "execution_count": 0,
   "metadata": {
    "colab": {},
    "colab_type": "code",
    "id": "ZDCP8MDZh2E0"
   },
   "outputs": [],
   "source": [
    "x_train = np.array((data.iloc[:,7]))\n",
    "y_train = np.array((data.iloc[:,1]))\n",
    "x_test = np.array((test.iloc[:,6]))"
   ]
  },
  {
   "cell_type": "code",
   "execution_count": 6,
   "metadata": {
    "colab": {
     "base_uri": "https://localhost:8080/",
     "height": 34
    },
    "colab_type": "code",
    "executionInfo": {
     "elapsed": 1790,
     "status": "ok",
     "timestamp": 1555529890188,
     "user": {
      "displayName": "chamandeep singh",
      "photoUrl": "",
      "userId": "07992400557441775171"
     },
     "user_tz": -330
    },
    "id": "jQ6vK6pwQGOg",
    "outputId": "c4e4efee-940d-4510-dca1-55604536576c"
   },
   "outputs": [
    {
     "data": {
      "text/plain": [
       "(3660,)"
      ]
     },
     "execution_count": 6,
     "metadata": {
      "tags": []
     },
     "output_type": "execute_result"
    }
   ],
   "source": [
    "x_test.shape"
   ]
  },
  {
   "cell_type": "code",
   "execution_count": 7,
   "metadata": {
    "colab": {
     "base_uri": "https://localhost:8080/",
     "height": 34
    },
    "colab_type": "code",
    "executionInfo": {
     "elapsed": 1769,
     "status": "ok",
     "timestamp": 1555529890189,
     "user": {
      "displayName": "chamandeep singh",
      "photoUrl": "",
      "userId": "07992400557441775171"
     },
     "user_tz": -330
    },
    "id": "5Or1AKTGCuhq",
    "outputId": "9c8b3d9e-03a2-4ee4-9cea-07ef5e059d3c"
   },
   "outputs": [
    {
     "data": {
      "text/plain": [
       "((10980,), (10980,))"
      ]
     },
     "execution_count": 7,
     "metadata": {
      "tags": []
     },
     "output_type": "execute_result"
    }
   ],
   "source": [
    "x_train.shape,y_train.shape"
   ]
  },
  {
   "cell_type": "code",
   "execution_count": 8,
   "metadata": {
    "colab": {
     "base_uri": "https://localhost:8080/",
     "height": 70
    },
    "colab_type": "code",
    "executionInfo": {
     "elapsed": 3200,
     "status": "ok",
     "timestamp": 1555529891633,
     "user": {
      "displayName": "chamandeep singh",
      "photoUrl": "",
      "userId": "07992400557441775171"
     },
     "user_tz": -330
    },
    "id": "ZmP265V1DtzK",
    "outputId": "07de504c-2b6c-4acf-8e5b-85cdaf562dfa"
   },
   "outputs": [
    {
     "name": "stdout",
     "output_type": "stream",
     "text": [
      "[nltk_data] Downloading package punkt to /root/nltk_data...\n",
      "[nltk_data]   Package punkt is already up-to-date!\n"
     ]
    },
    {
     "data": {
      "text/plain": [
       "True"
      ]
     },
     "execution_count": 8,
     "metadata": {
      "tags": []
     },
     "output_type": "execute_result"
    }
   ],
   "source": [
    "from nltk.tokenize import sent_tokenize,word_tokenize\n",
    "import nltk\n",
    "nltk.download('punkt')"
   ]
  },
  {
   "cell_type": "code",
   "execution_count": 9,
   "metadata": {
    "colab": {
     "base_uri": "https://localhost:8080/",
     "height": 70
    },
    "colab_type": "code",
    "executionInfo": {
     "elapsed": 3190,
     "status": "ok",
     "timestamp": 1555529891634,
     "user": {
      "displayName": "chamandeep singh",
      "photoUrl": "",
      "userId": "07992400557441775171"
     },
     "user_tz": -330
    },
    "id": "9PIhndyjEvXo",
    "outputId": "ce78831e-7442-4dcc-9e63-d8f775297a80"
   },
   "outputs": [
    {
     "name": "stdout",
     "output_type": "stream",
     "text": [
      "[nltk_data] Downloading package stopwords to /root/nltk_data...\n",
      "[nltk_data]   Package stopwords is already up-to-date!\n"
     ]
    },
    {
     "data": {
      "text/plain": [
       "True"
      ]
     },
     "execution_count": 9,
     "metadata": {
      "tags": []
     },
     "output_type": "execute_result"
    }
   ],
   "source": [
    "from nltk.corpus import stopwords\n",
    "import nltk\n",
    "nltk.download('stopwords')\n",
    " "
   ]
  },
  {
   "cell_type": "code",
   "execution_count": 0,
   "metadata": {
    "colab": {},
    "colab_type": "code",
    "id": "afHSYJnPE4kG"
   },
   "outputs": [],
   "source": [
    "stop = stopwords.words('english')"
   ]
  },
  {
   "cell_type": "code",
   "execution_count": 0,
   "metadata": {
    "colab": {},
    "colab_type": "code",
    "id": "gr5fz4pKFKX-"
   },
   "outputs": [],
   "source": [
    "import string\n",
    "punctuations = list(string.punctuation)\n",
    "stop += punctuations"
   ]
  },
  {
   "cell_type": "code",
   "execution_count": 0,
   "metadata": {
    "colab": {},
    "colab_type": "code",
    "id": "lrlZgNR6FgmY"
   },
   "outputs": [],
   "source": [
    "sw1 = [i.capitalize() for i in stop]\n",
    "for j in sw1:\n",
    "    stop.append(j)"
   ]
  },
  {
   "cell_type": "code",
   "execution_count": 0,
   "metadata": {
    "colab": {},
    "colab_type": "code",
    "id": "aWFOE10lD651"
   },
   "outputs": [],
   "source": [
    "documents = []\n",
    "for i in range(len(x_train)):\n",
    "  documents.append((word_tokenize(x_train[i]), y_train[i]))\n",
    "  \n",
    "test_documents = []\n",
    "for i in range(len(x_test)):\n",
    "  test_documents.append(word_tokenize(x_test[i]))"
   ]
  },
  {
   "cell_type": "code",
   "execution_count": 14,
   "metadata": {
    "colab": {
     "base_uri": "https://localhost:8080/",
     "height": 105
    },
    "colab_type": "code",
    "executionInfo": {
     "elapsed": 6791,
     "status": "ok",
     "timestamp": 1555529895276,
     "user": {
      "displayName": "chamandeep singh",
      "photoUrl": "",
      "userId": "07992400557441775171"
     },
     "user_tz": -330
    },
    "id": "YkNu5teqE2ro",
    "outputId": "6138619b-5980-408c-f026-3f9c515c24f5"
   },
   "outputs": [
    {
     "name": "stdout",
     "output_type": "stream",
     "text": [
      "[nltk_data] Downloading package averaged_perceptron_tagger to\n",
      "[nltk_data]     /root/nltk_data...\n",
      "[nltk_data]   Package averaged_perceptron_tagger is already up-to-\n",
      "[nltk_data]       date!\n"
     ]
    },
    {
     "data": {
      "text/plain": [
       "True"
      ]
     },
     "execution_count": 14,
     "metadata": {
      "tags": []
     },
     "output_type": "execute_result"
    }
   ],
   "source": [
    "from nltk import pos_tag\n",
    "from nltk.stem import WordNetLemmatizer\n",
    "lemmatizer = WordNetLemmatizer()\n",
    "import nltk\n",
    "nltk.download('averaged_perceptron_tagger')"
   ]
  },
  {
   "cell_type": "code",
   "execution_count": 15,
   "metadata": {
    "colab": {
     "base_uri": "https://localhost:8080/",
     "height": 52
    },
    "colab_type": "code",
    "executionInfo": {
     "elapsed": 6783,
     "status": "ok",
     "timestamp": 1555529895277,
     "user": {
      "displayName": "chamandeep singh",
      "photoUrl": "",
      "userId": "07992400557441775171"
     },
     "user_tz": -330
    },
    "id": "7VYdIH4aHgha",
    "outputId": "3943486d-956a-4ed7-bfc5-c70d934ca1fe"
   },
   "outputs": [
    {
     "name": "stdout",
     "output_type": "stream",
     "text": [
      "[nltk_data] Downloading package wordnet to /root/nltk_data...\n",
      "[nltk_data]   Package wordnet is already up-to-date!\n"
     ]
    }
   ],
   "source": [
    "from nltk.corpus import wordnet\n",
    "import nltk\n",
    "nltk.download('wordnet')\n",
    "\n",
    "def get_simple_pos(tag):\n",
    "    \n",
    "    if tag.startswith('J'):\n",
    "        return wordnet.ADJ\n",
    "    elif tag.startswith('V'):\n",
    "        return wordnet.VERB\n",
    "    elif tag.startswith('N'):\n",
    "        return wordnet.NOUN\n",
    "    elif tag.startswith('R'):\n",
    "        return wordnet.ADV\n",
    "    else:\n",
    "        return wordnet.NOUN"
   ]
  },
  {
   "cell_type": "code",
   "execution_count": 0,
   "metadata": {
    "colab": {},
    "colab_type": "code",
    "id": "XkLV1TCjHlCu"
   },
   "outputs": [],
   "source": [
    "def clean_review(words):\n",
    "    output_words = []\n",
    "    for w in words:\n",
    "        if w not in stop:\n",
    "            pos = pos_tag([w])\n",
    "            clean_word = lemmatizer.lemmatize(w, pos = get_simple_pos(pos[0][1]))\n",
    "            output_words.append(clean_word.lower())\n",
    "    return output_words"
   ]
  },
  {
   "cell_type": "code",
   "execution_count": 0,
   "metadata": {
    "colab": {},
    "colab_type": "code",
    "id": "lIDfoyGRH7kf"
   },
   "outputs": [],
   "source": [
    "documents = [(clean_review(document), category) for document, category in documents]\n"
   ]
  },
  {
   "cell_type": "code",
   "execution_count": 0,
   "metadata": {
    "colab": {},
    "colab_type": "code",
    "id": "d6xZUTofbT8s"
   },
   "outputs": [],
   "source": [
    "test_documents = [clean_review(document) for document in test_documents]"
   ]
  },
  {
   "cell_type": "code",
   "execution_count": 19,
   "metadata": {
    "colab": {
     "base_uri": "https://localhost:8080/",
     "height": 301
    },
    "colab_type": "code",
    "executionInfo": {
     "elapsed": 36914,
     "status": "ok",
     "timestamp": 1555529925439,
     "user": {
      "displayName": "chamandeep singh",
      "photoUrl": "",
      "userId": "07992400557441775171"
     },
     "user_tz": -330
    },
    "id": "hq0RS-MTJaC8",
    "outputId": "203da7ea-2457-4f53-fdbe-d74080c88923"
   },
   "outputs": [
    {
     "data": {
      "text/plain": [
       "((['southwestair',\n",
       "   'schedule',\n",
       "   'morning',\n",
       "   '2',\n",
       "   'day',\n",
       "   'fact',\n",
       "   'yes..not',\n",
       "   'sure',\n",
       "   'even',\n",
       "   'flight',\n",
       "   'one',\n",
       "   'cancelled',\n",
       "   'flightled'],\n",
       "  'negative'),\n",
       " '@SouthwestAir I am scheduled for the morning, 2 days after the fact, yes..not sure why my evening flight was the only one Cancelled Flightled')"
      ]
     },
     "execution_count": 19,
     "metadata": {
      "tags": []
     },
     "output_type": "execute_result"
    }
   ],
   "source": [
    "documents[0],x_train[0]"
   ]
  },
  {
   "cell_type": "code",
   "execution_count": 0,
   "metadata": {
    "colab": {},
    "colab_type": "code",
    "id": "p7DDnPB1Khx-"
   },
   "outputs": [],
   "source": [
    "all_words = []\n",
    "for doc in documents:\n",
    "    all_words += doc[0]"
   ]
  },
  {
   "cell_type": "code",
   "execution_count": 21,
   "metadata": {
    "colab": {
     "base_uri": "https://localhost:8080/",
     "height": 34
    },
    "colab_type": "code",
    "executionInfo": {
     "elapsed": 36898,
     "status": "ok",
     "timestamp": 1555529925442,
     "user": {
      "displayName": "chamandeep singh",
      "photoUrl": "",
      "userId": "07992400557441775171"
     },
     "user_tz": -330
    },
    "id": "Dt7fOYlzKtpg",
    "outputId": "12a8d2e8-fdeb-46e6-e770-c00dc015d90c"
   },
   "outputs": [
    {
     "data": {
      "text/plain": [
       "120436"
      ]
     },
     "execution_count": 21,
     "metadata": {
      "tags": []
     },
     "output_type": "execute_result"
    }
   ],
   "source": [
    "len(all_words)"
   ]
  },
  {
   "cell_type": "code",
   "execution_count": 0,
   "metadata": {
    "colab": {},
    "colab_type": "code",
    "id": "E7jpHgzGK0Zr"
   },
   "outputs": [],
   "source": [
    "freq = nltk.FreqDist(all_words)\n",
    "common = freq.most_common(3000)\n",
    "features = [i[0] for i in common]"
   ]
  },
  {
   "cell_type": "code",
   "execution_count": 0,
   "metadata": {
    "colab": {},
    "colab_type": "code",
    "id": "Nxo9gNd3M2H8"
   },
   "outputs": [],
   "source": [
    "# def table_maker(features,x_train):\n",
    "#     X = [] \n",
    "#     for email in x_train:\n",
    "#         email = email.split()\n",
    "#         dic = Counter(email)\n",
    "#         temp = []\n",
    "#         for j in features:\n",
    "#             if j in dic:\n",
    "#                 temp.append(dic[j])\n",
    "#             else:\n",
    "#                 temp.append(0)\n",
    "#         X.append(temp)\n",
    "#     return X"
   ]
  },
  {
   "cell_type": "code",
   "execution_count": 0,
   "metadata": {
    "colab": {},
    "colab_type": "code",
    "id": "C-8TMMWeLyw8"
   },
   "outputs": [],
   "source": [
    "from collections import Counter\n",
    "def get_feature_dict(words):\n",
    "    current_features = {}\n",
    "    dic = Counter(words)\n",
    "    for w in features:\n",
    "      if w in dic:\n",
    "        current_features[w] = dic[w]\n",
    "      else:\n",
    "        current_features[w] = 0\n",
    "    return current_features"
   ]
  },
  {
   "cell_type": "code",
   "execution_count": 0,
   "metadata": {
    "colab": {},
    "colab_type": "code",
    "id": "Z5OQSrT0MJSh"
   },
   "outputs": [],
   "source": [
    "training_data = [(get_feature_dict(doc), category) for doc, category in documents]"
   ]
  },
  {
   "cell_type": "code",
   "execution_count": 0,
   "metadata": {
    "colab": {},
    "colab_type": "code",
    "id": "aVxQ1YBPPHht"
   },
   "outputs": [],
   "source": [
    "testing_data = [get_feature_dict(doc) for doc in test_documents]"
   ]
  },
  {
   "cell_type": "code",
   "execution_count": 0,
   "metadata": {
    "colab": {},
    "colab_type": "code",
    "id": "fiBmmImjchVX"
   },
   "outputs": [],
   "source": [
    "from sklearn.svm import SVC\n",
    "from nltk.classify import NaiveBayesClassifier"
   ]
  },
  {
   "cell_type": "code",
   "execution_count": 0,
   "metadata": {
    "colab": {},
    "colab_type": "code",
    "id": "06podGq0cuZh"
   },
   "outputs": [],
   "source": [
    "# svc = SVC()\n",
    "# classifier_sklearn = SklearnClassifier(svc)\n",
    "classfier = NaiveBayesClassifier.train(training_data)"
   ]
  },
  {
   "cell_type": "code",
   "execution_count": 0,
   "metadata": {
    "colab": {},
    "colab_type": "code",
    "id": "JEE4mA2XcwHv"
   },
   "outputs": [],
   "source": [
    "predictions = classfier.classify_many(testing_data)"
   ]
  },
  {
   "cell_type": "code",
   "execution_count": 0,
   "metadata": {
    "colab": {},
    "colab_type": "code",
    "id": "rPiSXPAnw6P0"
   },
   "outputs": [],
   "source": [
    "df = pd.DataFrame(predictions)"
   ]
  },
  {
   "cell_type": "code",
   "execution_count": 37,
   "metadata": {
    "colab": {
     "base_uri": "https://localhost:8080/",
     "height": 52
    },
    "colab_type": "code",
    "executionInfo": {
     "elapsed": 44199,
     "status": "ok",
     "timestamp": 1555530536454,
     "user": {
      "displayName": "chamandeep singh",
      "photoUrl": "",
      "userId": "07992400557441775171"
     },
     "user_tz": -330
    },
    "id": "LhNj2R4zel2L",
    "outputId": "4e8d3cb5-d2e4-40c9-f79d-0185a0de088b"
   },
   "outputs": [
    {
     "name": "stdout",
     "output_type": "stream",
     "text": [
      "\u001b[?25l\r",
      "\u001b[K    1% |▎                               | 10kB 15.4MB/s eta 0:00:01\r",
      "\u001b[K    2% |▋                               | 20kB 1.8MB/s eta 0:00:01\r",
      "\u001b[K    3% |█                               | 30kB 2.7MB/s eta 0:00:01\r",
      "\u001b[K    4% |█▎                              | 40kB 1.7MB/s eta 0:00:01\r",
      "\u001b[K    5% |█▋                              | 51kB 2.1MB/s eta 0:00:01\r",
      "\u001b[K    6% |██                              | 61kB 2.5MB/s eta 0:00:01\r",
      "\u001b[K    7% |██▎                             | 71kB 2.9MB/s eta 0:00:01\r",
      "\u001b[K    8% |██▋                             | 81kB 3.3MB/s eta 0:00:01\r",
      "\u001b[K    9% |███                             | 92kB 3.7MB/s eta 0:00:01\r",
      "\u001b[K    10% |███▎                            | 102kB 2.8MB/s eta 0:00:01\r",
      "\u001b[K    11% |███▋                            | 112kB 2.9MB/s eta 0:00:01\r",
      "\u001b[K    12% |████                            | 122kB 4.0MB/s eta 0:00:01\r",
      "\u001b[K    13% |████▎                           | 133kB 4.0MB/s eta 0:00:01\r",
      "\u001b[K    14% |████▋                           | 143kB 7.5MB/s eta 0:00:01\r",
      "\u001b[K    15% |█████                           | 153kB 7.7MB/s eta 0:00:01\r",
      "\u001b[K    16% |█████▎                          | 163kB 7.7MB/s eta 0:00:01\r",
      "\u001b[K    17% |█████▋                          | 174kB 7.7MB/s eta 0:00:01\r",
      "\u001b[K    18% |██████                          | 184kB 7.8MB/s eta 0:00:01\r",
      "\u001b[K    19% |██████▎                         | 194kB 7.8MB/s eta 0:00:01\r",
      "\u001b[K    20% |██████▋                         | 204kB 40.7MB/s eta 0:00:01\r",
      "\u001b[K    21% |███████                         | 215kB 8.7MB/s eta 0:00:01\r",
      "\u001b[K    22% |███████▎                        | 225kB 8.6MB/s eta 0:00:01\r",
      "\u001b[K    23% |███████▋                        | 235kB 8.7MB/s eta 0:00:01\r",
      "\u001b[K    24% |████████                        | 245kB 8.6MB/s eta 0:00:01\r",
      "\u001b[K    25% |████████▎                       | 256kB 8.6MB/s eta 0:00:01\r",
      "\u001b[K    26% |████████▋                       | 266kB 8.4MB/s eta 0:00:01\r",
      "\u001b[K    27% |█████████                       | 276kB 8.5MB/s eta 0:00:01\r",
      "\u001b[K    29% |█████████▎                      | 286kB 8.5MB/s eta 0:00:01\r",
      "\u001b[K    30% |█████████▋                      | 296kB 8.5MB/s eta 0:00:01\r",
      "\u001b[K    31% |██████████                      | 307kB 8.8MB/s eta 0:00:01\r",
      "\u001b[K    32% |██████████▎                     | 317kB 49.4MB/s eta 0:00:01\r",
      "\u001b[K    33% |██████████▋                     | 327kB 52.8MB/s eta 0:00:01\r",
      "\u001b[K    34% |███████████                     | 337kB 56.3MB/s eta 0:00:01\r",
      "\u001b[K    35% |███████████▎                    | 348kB 49.1MB/s eta 0:00:01\r",
      "\u001b[K    36% |███████████▋                    | 358kB 49.0MB/s eta 0:00:01\r",
      "\u001b[K    37% |████████████                    | 368kB 59.7MB/s eta 0:00:01\r",
      "\u001b[K    38% |████████████▎                   | 378kB 59.7MB/s eta 0:00:01\r",
      "\u001b[K    39% |████████████▋                   | 389kB 59.5MB/s eta 0:00:01\r",
      "\u001b[K    40% |█████████████                   | 399kB 9.4MB/s eta 0:00:01\r",
      "\u001b[K    41% |█████████████▎                  | 409kB 9.2MB/s eta 0:00:01\r",
      "\u001b[K    42% |█████████████▋                  | 419kB 9.1MB/s eta 0:00:01\r",
      "\u001b[K    43% |██████████████                  | 430kB 9.1MB/s eta 0:00:01\r",
      "\u001b[K    44% |██████████████▎                 | 440kB 9.1MB/s eta 0:00:01\r",
      "\u001b[K    45% |██████████████▋                 | 450kB 9.1MB/s eta 0:00:01\r",
      "\u001b[K    46% |███████████████                 | 460kB 9.1MB/s eta 0:00:01\r",
      "\u001b[K    47% |███████████████▎                | 471kB 9.1MB/s eta 0:00:01\r",
      "\u001b[K    48% |███████████████▋                | 481kB 9.1MB/s eta 0:00:01\r",
      "\u001b[K    49% |████████████████                | 491kB 9.1MB/s eta 0:00:01\r",
      "\u001b[K    50% |████████████████▎               | 501kB 50.8MB/s eta 0:00:01\r",
      "\u001b[K    51% |████████████████▋               | 512kB 51.2MB/s eta 0:00:01\r",
      "\u001b[K    52% |█████████████████               | 522kB 52.6MB/s eta 0:00:01\r",
      "\u001b[K    53% |█████████████████▎              | 532kB 52.7MB/s eta 0:00:01\r",
      "\u001b[K    54% |█████████████████▋              | 542kB 52.7MB/s eta 0:00:01\r",
      "\u001b[K    55% |██████████████████              | 552kB 61.9MB/s eta 0:00:01\r",
      "\u001b[K    57% |██████████████████▎             | 563kB 64.5MB/s eta 0:00:01\r",
      "\u001b[K    58% |██████████████████▋             | 573kB 64.5MB/s eta 0:00:01\r",
      "\u001b[K    59% |███████████████████             | 583kB 65.4MB/s eta 0:00:01\r",
      "\u001b[K    60% |███████████████████▎            | 593kB 64.6MB/s eta 0:00:01\r",
      "\u001b[K    61% |███████████████████▋            | 604kB 64.4MB/s eta 0:00:01\r",
      "\u001b[K    62% |████████████████████            | 614kB 75.8MB/s eta 0:00:01\r",
      "\u001b[K    63% |████████████████████▎           | 624kB 78.1MB/s eta 0:00:01\r",
      "\u001b[K    64% |████████████████████▋           | 634kB 80.5MB/s eta 0:00:01\r",
      "\u001b[K    65% |█████████████████████           | 645kB 81.1MB/s eta 0:00:01\r",
      "\u001b[K    66% |█████████████████████▎          | 655kB 80.3MB/s eta 0:00:01\r",
      "\u001b[K    67% |█████████████████████▋          | 665kB 51.7MB/s eta 0:00:01\r",
      "\u001b[K    68% |██████████████████████          | 675kB 50.8MB/s eta 0:00:01\r",
      "\u001b[K    69% |██████████████████████▎         | 686kB 50.7MB/s eta 0:00:01\r",
      "\u001b[K    70% |██████████████████████▋         | 696kB 50.9MB/s eta 0:00:01\r",
      "\u001b[K    71% |███████████████████████         | 706kB 50.4MB/s eta 0:00:01\r",
      "\u001b[K    72% |███████████████████████▎        | 716kB 50.6MB/s eta 0:00:01\r",
      "\u001b[K    73% |███████████████████████▋        | 727kB 50.5MB/s eta 0:00:01\r",
      "\u001b[K    74% |████████████████████████        | 737kB 50.2MB/s eta 0:00:01\r",
      "\u001b[K    75% |████████████████████████▎       | 747kB 50.6MB/s eta 0:00:01\r",
      "\u001b[K    76% |████████████████████████▋       | 757kB 50.3MB/s eta 0:00:01\r",
      "\u001b[K    77% |████████████████████████▉       | 768kB 77.5MB/s eta 0:00:01\r",
      "\u001b[K    78% |█████████████████████████▏      | 778kB 78.6MB/s eta 0:00:01\r",
      "\u001b[K    79% |█████████████████████████▌      | 788kB 77.2MB/s eta 0:00:01\r",
      "\u001b[K    80% |█████████████████████████▉      | 798kB 78.0MB/s eta 0:00:01\r",
      "\u001b[K    81% |██████████████████████████▏     | 808kB 79.2MB/s eta 0:00:01\r",
      "\u001b[K    82% |██████████████████████████▌     | 819kB 14.5MB/s eta 0:00:01\r",
      "\u001b[K    83% |██████████████████████████▉     | 829kB 14.3MB/s eta 0:00:01\r",
      "\u001b[K    85% |███████████████████████████▏    | 839kB 14.2MB/s eta 0:00:01\r",
      "\u001b[K    86% |███████████████████████████▌    | 849kB 14.0MB/s eta 0:00:01\r",
      "\u001b[K    87% |███████████████████████████▉    | 860kB 13.2MB/s eta 0:00:01\r",
      "\u001b[K    88% |████████████████████████████▏   | 870kB 13.1MB/s eta 0:00:01\r",
      "\u001b[K    89% |████████████████████████████▌   | 880kB 13.1MB/s eta 0:00:01\r",
      "\u001b[K    90% |████████████████████████████▉   | 890kB 13.1MB/s eta 0:00:01\r",
      "\u001b[K    91% |█████████████████████████████▏  | 901kB 13.1MB/s eta 0:00:01\r",
      "\u001b[K    92% |█████████████████████████████▌  | 911kB 13.1MB/s eta 0:00:01\r",
      "\u001b[K    93% |█████████████████████████████▉  | 921kB 50.5MB/s eta 0:00:01\r",
      "\u001b[K    94% |██████████████████████████████▏ | 931kB 53.1MB/s eta 0:00:01\r",
      "\u001b[K    95% |██████████████████████████████▌ | 942kB 54.8MB/s eta 0:00:01\r",
      "\u001b[K    96% |██████████████████████████████▉ | 952kB 56.3MB/s eta 0:00:01\r",
      "\u001b[K    97% |███████████████████████████████▏| 962kB 76.4MB/s eta 0:00:01\r",
      "\u001b[K    98% |███████████████████████████████▌| 972kB 78.9MB/s eta 0:00:01\r",
      "\u001b[K    99% |███████████████████████████████▉| 983kB 78.2MB/s eta 0:00:01\r",
      "\u001b[K    100% |████████████████████████████████| 993kB 19.4MB/s \n",
      "\u001b[?25h  Building wheel for PyDrive (setup.py) ... \u001b[?25ldone\n",
      "\u001b[?25h"
     ]
    }
   ],
   "source": [
    "!pip install -U -q PyDrive\n",
    "from pydrive.auth import GoogleAuth\n",
    "from pydrive.drive import GoogleDrive\n",
    "from google.colab import auth\n",
    "from google.colab import files\n",
    "from oauth2client.client import GoogleCredentials\n",
    "\n",
    "auth.authenticate_user()\n",
    "gauth = GoogleAuth()\n",
    "gauth.credentials = GoogleCredentials.get_application_default()\n",
    "drive = GoogleDrive(gauth)"
   ]
  },
  {
   "cell_type": "code",
   "execution_count": 38,
   "metadata": {
    "colab": {
     "base_uri": "https://localhost:8080/",
     "height": 213
    },
    "colab_type": "code",
    "executionInfo": {
     "elapsed": 1380,
     "status": "ok",
     "timestamp": 1555530541663,
     "user": {
      "displayName": "chamandeep singh",
      "photoUrl": "",
      "userId": "07992400557441775171"
     },
     "user_tz": -330
    },
    "id": "8pid6MjGyWZY",
    "outputId": "9c41ae8f-56ff-4b5f-cc4b-55516168d344"
   },
   "outputs": [
    {
     "name": "stdout",
     "output_type": "stream",
     "text": [
      "title: mahdavi2007, id: 0B9DRPkwJgQLAc0RmVnFfOUtkWUxiVVpKc1RFNnN2NzdXLWdV\n",
      "title: CNNTF.ipynb, id: 1rgETXAD4T3htkleljx18cwQQiPuuaKWP\n",
      "title: images, id: 1VrqQAffJXwTNYFSw9sCzVjfN07NsSvGf\n",
      "title: IMG-20190327-WA0030.jpeg, id: 1HBoIgbbRy3rF8Y2IUJ6ZbZleiTNWazEN\n",
      "title: codes, id: 1sS3SzYYiNwWFw84KkEvw9kyj4mYjGtR1\n",
      "title: Colab Notebooks, id: 1GCEPPncx-2ETQSnz1elBdqgNjuaISmju\n",
      "title: My files, id: 0B9DRPkwJgQLAb2VPTER1Ym96MXc\n",
      "title: WhatsApp Chat with Adi.txt, id: 0B9DRPkwJgQLAaEcyZER5WWNScVJJeVE0SkJwSEd2dUczOUVB\n",
      "title: GalleryLock, id: 0B9DRPkwJgQLAcjd4aUlPZzg3Q3M\n",
      "title: How to get started with Drive, id: 0B9DRPkwJgQLAc3RhcnRlcl9maWxl\n"
     ]
    }
   ],
   "source": [
    "file_list = drive.ListFile({'q': \"'root' in parents and trashed=false\"}).GetList()\n",
    "for file1 in file_list:\n",
    "  print('title: %s, id: %s' % (file1['title'], file1['id']))\n",
    "\n"
   ]
  },
  {
   "cell_type": "code",
   "execution_count": 0,
   "metadata": {
    "colab": {},
    "colab_type": "code",
    "id": "GCNKWooz2OaW"
   },
   "outputs": [],
   "source": [
    "df.to_csv('mydataframe.csv', index=False,header=False)"
   ]
  },
  {
   "cell_type": "code",
   "execution_count": 0,
   "metadata": {
    "colab": {},
    "colab_type": "code",
    "id": "8pUaaKSR2P8-"
   },
   "outputs": [],
   "source": [
    "file = drive.CreateFile({'parents':[{u'id': '1sS3SzYYiNwWFw84KkEvw9kyj4mYjGtR1'}]}) \n",
    "file.SetContentFile(\"mydataframe.csv\")\n",
    "file.Upload()"
   ]
  }
 ],
 "metadata": {
  "colab": {
   "collapsed_sections": [],
   "name": "PROJECT(Twitter US Airline Sentiment Analysis).ipynb",
   "provenance": [],
   "version": "0.3.2"
  },
  "kernelspec": {
   "display_name": "Python 3",
   "language": "python",
   "name": "python3"
  },
  "language_info": {
   "codemirror_mode": {
    "name": "ipython",
    "version": 3
   },
   "file_extension": ".py",
   "mimetype": "text/x-python",
   "name": "python",
   "nbconvert_exporter": "python",
   "pygments_lexer": "ipython3",
   "version": "3.6.8"
  }
 },
 "nbformat": 4,
 "nbformat_minor": 1
}
